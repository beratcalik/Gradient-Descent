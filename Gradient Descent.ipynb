{
 "cells": [
  {
   "cell_type": "code",
   "execution_count": 6,
   "id": "93c56499-8e9c-4709-9d46-4fd31fe1e531",
   "metadata": {},
   "outputs": [
    {
     "name": "stdout",
     "output_type": "stream",
     "text": [
      "Iteration 0: Cost = 131142218520454567559168.0000\n",
      "Iteration 100: Cost = nan\n",
      "Iteration 200: Cost = nan\n",
      "Iteration 300: Cost = nan\n",
      "Iteration 400: Cost = nan\n",
      "Iteration 500: Cost = nan\n",
      "Iteration 600: Cost = nan\n",
      "Iteration 700: Cost = nan\n",
      "Iteration 800: Cost = nan\n",
      "Iteration 900: Cost = nan\n",
      "Optimized parameters:\n",
      "Weights: year            NaN\n",
      "km              NaN\n",
      "engine_size     NaN\n",
      "brand_encoded   NaN\n",
      "Name: 0, dtype: float64\n",
      "Bias: nan\n"
     ]
    }
   ],
   "source": [
    "import pandas as pd\n",
    "import numpy as np\n",
    "from sklearn.preprocessing import LabelEncoder\n",
    "\n",
    "# Veri setini tanımla\n",
    "data = {\n",
    "    'year': [2018, 2015, 2020, 2012],\n",
    "    'km': [50000, 80000, 20000, 120000],\n",
    "    'engine_size': [1.6, 2.0, 1.8, 1.4],\n",
    "    'brand': ['Toyota', 'Honda', 'Volkswagen', 'Ford'],\n",
    "    'price': [120000, 90000, 150000, 60000]\n",
    "}\n",
    "\n",
    "# Veri setini DataFrame'e dönüştür\n",
    "df = pd.DataFrame(data)\n",
    "\n",
    "# Brand sütununu kodlamak için LabelEncoder kullan\n",
    "label_encoder = LabelEncoder()\n",
    "df[\"brand_encoded\"] = label_encoder.fit_transform(df[\"brand\"])\n",
    "\n",
    "# Eğitim verisi ve hedef değişkeni\n",
    "X_train = df[['year', 'km', 'engine_size', 'brand_encoded']]\n",
    "y_train = df['price']\n",
    "\n",
    "def predict(X, w, b):\n",
    "    return np.dot(X, w) + b\n",
    "\n",
    "def gradient_descent(X_train, y_train, learning_rate=0.001, num_iterations=1000):\n",
    "    m, n = X_train.shape\n",
    "    w = np.random.randn(n)\n",
    "    b = 0\n",
    "    \n",
    "    for iteration in range(num_iterations):\n",
    "        dw = np.zeros(n)\n",
    "        db = 0\n",
    "        \n",
    "        for i in range(m):\n",
    "            y_pred = predict(X_train.iloc[i], w, b)\n",
    "            dw += (y_pred - y_train.iloc[i]) * X_train.iloc[i]\n",
    "            db += (y_pred - y_train.iloc[i])\n",
    "            \n",
    "        dw /= m\n",
    "        db /= m\n",
    "        \n",
    "        w -= learning_rate * dw\n",
    "        b -= learning_rate * db\n",
    "        \n",
    "        if iteration % 100 == 0:\n",
    "            cost = np.mean((predict(X_train, w, b) - y_train) ** 2)\n",
    "            print(f\"Iteration {iteration}: Cost = {cost:.4f}\")\n",
    "    \n",
    "    return w, b\n",
    "\n",
    "# Gradient Descent ile Modeli Eğitme\n",
    "w_optimized, b_optimized = gradient_descent(X_train, y_train)\n",
    "\n",
    "print(\"Optimized parameters:\")\n",
    "print(\"Weights:\", w_optimized)\n",
    "print(\"Bias:\", b_optimized)\n"
   ]
  },
  {
   "cell_type": "code",
   "execution_count": null,
   "id": "34ee5741-68ba-4b68-bf91-2fe182c0c19a",
   "metadata": {},
   "outputs": [],
   "source": []
  }
 ],
 "metadata": {
  "kernelspec": {
   "display_name": "Python 3 (ipykernel)",
   "language": "python",
   "name": "python3"
  },
  "language_info": {
   "codemirror_mode": {
    "name": "ipython",
    "version": 3
   },
   "file_extension": ".py",
   "mimetype": "text/x-python",
   "name": "python",
   "nbconvert_exporter": "python",
   "pygments_lexer": "ipython3",
   "version": "3.11.7"
  }
 },
 "nbformat": 4,
 "nbformat_minor": 5
}
